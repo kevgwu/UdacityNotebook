{
 "cells": [
  {
   "cell_type": "markdown",
   "metadata": {},
   "source": [
    "# Flight Data Exploration\n",
    "## by Kevin Wu\n",
    "\n",
    "## Preliminary Wrangling\n",
    "\n",
    "This document explores a dataset containing flight attributes for almost 2,389,217 flights in 2008. To reduce runtime, only the month of January was analyzed, which has 605,765 entries."
   ]
  },
  {
   "cell_type": "code",
   "execution_count": 1,
   "metadata": {},
   "outputs": [],
   "source": [
    "# Import all packages and set plots to be embedded inline\n",
    "import numpy as np\n",
    "import pandas as pd\n",
    "import matplotlib.pyplot as plt\n",
    "import seaborn as sb\n",
    "import warnings\n",
    "warnings.filterwarnings(\"ignore\")\n",
    "\n",
    "%matplotlib inline"
   ]
  },
  {
   "cell_type": "code",
   "execution_count": 2,
   "metadata": {},
   "outputs": [],
   "source": [
    "# Read 2008 flight data\n",
    "\n",
    "df=pd.read_csv('2008.csv')"
   ]
  },
  {
   "cell_type": "code",
   "execution_count": 3,
   "metadata": {},
   "outputs": [],
   "source": [
    "# Query only data for January to reduce runtime\n",
    "\n",
    "df=df[df.Month == 1]"
   ]
  },
  {
   "cell_type": "code",
   "execution_count": 4,
   "metadata": {},
   "outputs": [
    {
     "name": "stdout",
     "output_type": "stream",
     "text": [
      "(605765, 29)\n",
      "Year                   int64\n",
      "Month                  int64\n",
      "DayofMonth             int64\n",
      "DayOfWeek              int64\n",
      "DepTime              float64\n",
      "CRSDepTime             int64\n",
      "ArrTime              float64\n",
      "CRSArrTime             int64\n",
      "UniqueCarrier         object\n",
      "FlightNum              int64\n",
      "TailNum               object\n",
      "ActualElapsedTime    float64\n",
      "CRSElapsedTime       float64\n",
      "AirTime              float64\n",
      "ArrDelay             float64\n",
      "DepDelay             float64\n",
      "Origin                object\n",
      "Dest                  object\n",
      "Distance               int64\n",
      "TaxiIn               float64\n",
      "TaxiOut              float64\n",
      "Cancelled              int64\n",
      "CancellationCode      object\n",
      "Diverted               int64\n",
      "CarrierDelay         float64\n",
      "WeatherDelay         float64\n",
      "NASDelay             float64\n",
      "SecurityDelay        float64\n",
      "LateAircraftDelay    float64\n",
      "dtype: object\n"
     ]
    }
   ],
   "source": [
    "print(df.shape)\n",
    "print(df.dtypes)"
   ]
  },
  {
   "cell_type": "code",
   "execution_count": 5,
   "metadata": {
    "scrolled": true
   },
   "outputs": [
    {
     "data": {
      "text/html": [
       "<div>\n",
       "<style scoped>\n",
       "    .dataframe tbody tr th:only-of-type {\n",
       "        vertical-align: middle;\n",
       "    }\n",
       "\n",
       "    .dataframe tbody tr th {\n",
       "        vertical-align: top;\n",
       "    }\n",
       "\n",
       "    .dataframe thead th {\n",
       "        text-align: right;\n",
       "    }\n",
       "</style>\n",
       "<table border=\"1\" class=\"dataframe\">\n",
       "  <thead>\n",
       "    <tr style=\"text-align: right;\">\n",
       "      <th></th>\n",
       "      <th>Year</th>\n",
       "      <th>Month</th>\n",
       "      <th>DayofMonth</th>\n",
       "      <th>DayOfWeek</th>\n",
       "      <th>DepTime</th>\n",
       "      <th>CRSDepTime</th>\n",
       "      <th>ArrTime</th>\n",
       "      <th>CRSArrTime</th>\n",
       "      <th>UniqueCarrier</th>\n",
       "      <th>FlightNum</th>\n",
       "      <th>...</th>\n",
       "      <th>TaxiIn</th>\n",
       "      <th>TaxiOut</th>\n",
       "      <th>Cancelled</th>\n",
       "      <th>CancellationCode</th>\n",
       "      <th>Diverted</th>\n",
       "      <th>CarrierDelay</th>\n",
       "      <th>WeatherDelay</th>\n",
       "      <th>NASDelay</th>\n",
       "      <th>SecurityDelay</th>\n",
       "      <th>LateAircraftDelay</th>\n",
       "    </tr>\n",
       "  </thead>\n",
       "  <tbody>\n",
       "    <tr>\n",
       "      <th>541787</th>\n",
       "      <td>2008</td>\n",
       "      <td>1</td>\n",
       "      <td>20</td>\n",
       "      <td>7</td>\n",
       "      <td>738.0</td>\n",
       "      <td>740</td>\n",
       "      <td>1120.0</td>\n",
       "      <td>1139</td>\n",
       "      <td>AS</td>\n",
       "      <td>728</td>\n",
       "      <td>...</td>\n",
       "      <td>4.0</td>\n",
       "      <td>12.0</td>\n",
       "      <td>0</td>\n",
       "      <td>NaN</td>\n",
       "      <td>0</td>\n",
       "      <td>NaN</td>\n",
       "      <td>NaN</td>\n",
       "      <td>NaN</td>\n",
       "      <td>NaN</td>\n",
       "      <td>NaN</td>\n",
       "    </tr>\n",
       "    <tr>\n",
       "      <th>438953</th>\n",
       "      <td>2008</td>\n",
       "      <td>1</td>\n",
       "      <td>11</td>\n",
       "      <td>5</td>\n",
       "      <td>1810.0</td>\n",
       "      <td>1702</td>\n",
       "      <td>1930.0</td>\n",
       "      <td>1828</td>\n",
       "      <td>NW</td>\n",
       "      <td>835</td>\n",
       "      <td>...</td>\n",
       "      <td>7.0</td>\n",
       "      <td>20.0</td>\n",
       "      <td>0</td>\n",
       "      <td>NaN</td>\n",
       "      <td>0</td>\n",
       "      <td>62.0</td>\n",
       "      <td>0.0</td>\n",
       "      <td>0.0</td>\n",
       "      <td>0.0</td>\n",
       "      <td>0.0</td>\n",
       "    </tr>\n",
       "    <tr>\n",
       "      <th>178592</th>\n",
       "      <td>2008</td>\n",
       "      <td>1</td>\n",
       "      <td>6</td>\n",
       "      <td>7</td>\n",
       "      <td>1537.0</td>\n",
       "      <td>1320</td>\n",
       "      <td>1741.0</td>\n",
       "      <td>1458</td>\n",
       "      <td>OO</td>\n",
       "      <td>6000</td>\n",
       "      <td>...</td>\n",
       "      <td>42.0</td>\n",
       "      <td>20.0</td>\n",
       "      <td>0</td>\n",
       "      <td>NaN</td>\n",
       "      <td>0</td>\n",
       "      <td>0.0</td>\n",
       "      <td>0.0</td>\n",
       "      <td>163.0</td>\n",
       "      <td>0.0</td>\n",
       "      <td>0.0</td>\n",
       "    </tr>\n",
       "    <tr>\n",
       "      <th>39939</th>\n",
       "      <td>2008</td>\n",
       "      <td>1</td>\n",
       "      <td>15</td>\n",
       "      <td>2</td>\n",
       "      <td>1047.0</td>\n",
       "      <td>1050</td>\n",
       "      <td>1206.0</td>\n",
       "      <td>1210</td>\n",
       "      <td>WN</td>\n",
       "      <td>1247</td>\n",
       "      <td>...</td>\n",
       "      <td>5.0</td>\n",
       "      <td>9.0</td>\n",
       "      <td>0</td>\n",
       "      <td>NaN</td>\n",
       "      <td>0</td>\n",
       "      <td>NaN</td>\n",
       "      <td>NaN</td>\n",
       "      <td>NaN</td>\n",
       "      <td>NaN</td>\n",
       "      <td>NaN</td>\n",
       "    </tr>\n",
       "    <tr>\n",
       "      <th>94987</th>\n",
       "      <td>2008</td>\n",
       "      <td>1</td>\n",
       "      <td>22</td>\n",
       "      <td>2</td>\n",
       "      <td>1611.0</td>\n",
       "      <td>1610</td>\n",
       "      <td>1708.0</td>\n",
       "      <td>1707</td>\n",
       "      <td>XE</td>\n",
       "      <td>148</td>\n",
       "      <td>...</td>\n",
       "      <td>4.0</td>\n",
       "      <td>10.0</td>\n",
       "      <td>0</td>\n",
       "      <td>NaN</td>\n",
       "      <td>0</td>\n",
       "      <td>NaN</td>\n",
       "      <td>NaN</td>\n",
       "      <td>NaN</td>\n",
       "      <td>NaN</td>\n",
       "      <td>NaN</td>\n",
       "    </tr>\n",
       "    <tr>\n",
       "      <th>512809</th>\n",
       "      <td>2008</td>\n",
       "      <td>1</td>\n",
       "      <td>1</td>\n",
       "      <td>2</td>\n",
       "      <td>555.0</td>\n",
       "      <td>600</td>\n",
       "      <td>826.0</td>\n",
       "      <td>835</td>\n",
       "      <td>AA</td>\n",
       "      <td>1614</td>\n",
       "      <td>...</td>\n",
       "      <td>7.0</td>\n",
       "      <td>11.0</td>\n",
       "      <td>0</td>\n",
       "      <td>NaN</td>\n",
       "      <td>0</td>\n",
       "      <td>NaN</td>\n",
       "      <td>NaN</td>\n",
       "      <td>NaN</td>\n",
       "      <td>NaN</td>\n",
       "      <td>NaN</td>\n",
       "    </tr>\n",
       "    <tr>\n",
       "      <th>158170</th>\n",
       "      <td>2008</td>\n",
       "      <td>1</td>\n",
       "      <td>13</td>\n",
       "      <td>7</td>\n",
       "      <td>1057.0</td>\n",
       "      <td>1100</td>\n",
       "      <td>1120.0</td>\n",
       "      <td>1130</td>\n",
       "      <td>OH</td>\n",
       "      <td>5365</td>\n",
       "      <td>...</td>\n",
       "      <td>8.0</td>\n",
       "      <td>11.0</td>\n",
       "      <td>0</td>\n",
       "      <td>NaN</td>\n",
       "      <td>0</td>\n",
       "      <td>NaN</td>\n",
       "      <td>NaN</td>\n",
       "      <td>NaN</td>\n",
       "      <td>NaN</td>\n",
       "      <td>NaN</td>\n",
       "    </tr>\n",
       "    <tr>\n",
       "      <th>559260</th>\n",
       "      <td>2008</td>\n",
       "      <td>1</td>\n",
       "      <td>25</td>\n",
       "      <td>5</td>\n",
       "      <td>2327.0</td>\n",
       "      <td>2335</td>\n",
       "      <td>449.0</td>\n",
       "      <td>512</td>\n",
       "      <td>B6</td>\n",
       "      <td>490</td>\n",
       "      <td>...</td>\n",
       "      <td>3.0</td>\n",
       "      <td>14.0</td>\n",
       "      <td>0</td>\n",
       "      <td>NaN</td>\n",
       "      <td>0</td>\n",
       "      <td>NaN</td>\n",
       "      <td>NaN</td>\n",
       "      <td>NaN</td>\n",
       "      <td>NaN</td>\n",
       "      <td>NaN</td>\n",
       "    </tr>\n",
       "    <tr>\n",
       "      <th>166341</th>\n",
       "      <td>2008</td>\n",
       "      <td>1</td>\n",
       "      <td>27</td>\n",
       "      <td>7</td>\n",
       "      <td>1157.0</td>\n",
       "      <td>1207</td>\n",
       "      <td>1320.0</td>\n",
       "      <td>1339</td>\n",
       "      <td>OH</td>\n",
       "      <td>5059</td>\n",
       "      <td>...</td>\n",
       "      <td>11.0</td>\n",
       "      <td>20.0</td>\n",
       "      <td>0</td>\n",
       "      <td>NaN</td>\n",
       "      <td>0</td>\n",
       "      <td>NaN</td>\n",
       "      <td>NaN</td>\n",
       "      <td>NaN</td>\n",
       "      <td>NaN</td>\n",
       "      <td>NaN</td>\n",
       "    </tr>\n",
       "    <tr>\n",
       "      <th>229494</th>\n",
       "      <td>2008</td>\n",
       "      <td>1</td>\n",
       "      <td>19</td>\n",
       "      <td>6</td>\n",
       "      <td>1406.0</td>\n",
       "      <td>1252</td>\n",
       "      <td>1502.0</td>\n",
       "      <td>1345</td>\n",
       "      <td>UA</td>\n",
       "      <td>394</td>\n",
       "      <td>...</td>\n",
       "      <td>4.0</td>\n",
       "      <td>22.0</td>\n",
       "      <td>0</td>\n",
       "      <td>NaN</td>\n",
       "      <td>0</td>\n",
       "      <td>74.0</td>\n",
       "      <td>0.0</td>\n",
       "      <td>3.0</td>\n",
       "      <td>0.0</td>\n",
       "      <td>0.0</td>\n",
       "    </tr>\n",
       "  </tbody>\n",
       "</table>\n",
       "<p>10 rows × 29 columns</p>\n",
       "</div>"
      ],
      "text/plain": [
       "        Year  Month  DayofMonth  DayOfWeek  DepTime  CRSDepTime  ArrTime  \\\n",
       "541787  2008      1          20          7    738.0         740   1120.0   \n",
       "438953  2008      1          11          5   1810.0        1702   1930.0   \n",
       "178592  2008      1           6          7   1537.0        1320   1741.0   \n",
       "39939   2008      1          15          2   1047.0        1050   1206.0   \n",
       "94987   2008      1          22          2   1611.0        1610   1708.0   \n",
       "512809  2008      1           1          2    555.0         600    826.0   \n",
       "158170  2008      1          13          7   1057.0        1100   1120.0   \n",
       "559260  2008      1          25          5   2327.0        2335    449.0   \n",
       "166341  2008      1          27          7   1157.0        1207   1320.0   \n",
       "229494  2008      1          19          6   1406.0        1252   1502.0   \n",
       "\n",
       "        CRSArrTime UniqueCarrier  FlightNum  ... TaxiIn  TaxiOut  Cancelled  \\\n",
       "541787        1139            AS        728  ...    4.0     12.0          0   \n",
       "438953        1828            NW        835  ...    7.0     20.0          0   \n",
       "178592        1458            OO       6000  ...   42.0     20.0          0   \n",
       "39939         1210            WN       1247  ...    5.0      9.0          0   \n",
       "94987         1707            XE        148  ...    4.0     10.0          0   \n",
       "512809         835            AA       1614  ...    7.0     11.0          0   \n",
       "158170        1130            OH       5365  ...    8.0     11.0          0   \n",
       "559260         512            B6        490  ...    3.0     14.0          0   \n",
       "166341        1339            OH       5059  ...   11.0     20.0          0   \n",
       "229494        1345            UA        394  ...    4.0     22.0          0   \n",
       "\n",
       "        CancellationCode  Diverted  CarrierDelay WeatherDelay NASDelay  \\\n",
       "541787               NaN         0           NaN          NaN      NaN   \n",
       "438953               NaN         0          62.0          0.0      0.0   \n",
       "178592               NaN         0           0.0          0.0    163.0   \n",
       "39939                NaN         0           NaN          NaN      NaN   \n",
       "94987                NaN         0           NaN          NaN      NaN   \n",
       "512809               NaN         0           NaN          NaN      NaN   \n",
       "158170               NaN         0           NaN          NaN      NaN   \n",
       "559260               NaN         0           NaN          NaN      NaN   \n",
       "166341               NaN         0           NaN          NaN      NaN   \n",
       "229494               NaN         0          74.0          0.0      3.0   \n",
       "\n",
       "        SecurityDelay  LateAircraftDelay  \n",
       "541787            NaN                NaN  \n",
       "438953            0.0                0.0  \n",
       "178592            0.0                0.0  \n",
       "39939             NaN                NaN  \n",
       "94987             NaN                NaN  \n",
       "512809            NaN                NaN  \n",
       "158170            NaN                NaN  \n",
       "559260            NaN                NaN  \n",
       "166341            NaN                NaN  \n",
       "229494            0.0                0.0  \n",
       "\n",
       "[10 rows x 29 columns]"
      ]
     },
     "execution_count": 5,
     "metadata": {},
     "output_type": "execute_result"
    }
   ],
   "source": [
    "df.sample(10)"
   ]
  },
  {
   "cell_type": "code",
   "execution_count": 6,
   "metadata": {},
   "outputs": [
    {
     "data": {
      "text/html": [
       "<div>\n",
       "<style scoped>\n",
       "    .dataframe tbody tr th:only-of-type {\n",
       "        vertical-align: middle;\n",
       "    }\n",
       "\n",
       "    .dataframe tbody tr th {\n",
       "        vertical-align: top;\n",
       "    }\n",
       "\n",
       "    .dataframe thead th {\n",
       "        text-align: right;\n",
       "    }\n",
       "</style>\n",
       "<table border=\"1\" class=\"dataframe\">\n",
       "  <thead>\n",
       "    <tr style=\"text-align: right;\">\n",
       "      <th></th>\n",
       "      <th>Year</th>\n",
       "      <th>Month</th>\n",
       "      <th>DayofMonth</th>\n",
       "      <th>DayOfWeek</th>\n",
       "      <th>DepTime</th>\n",
       "      <th>CRSDepTime</th>\n",
       "      <th>ArrTime</th>\n",
       "      <th>CRSArrTime</th>\n",
       "      <th>FlightNum</th>\n",
       "      <th>ActualElapsedTime</th>\n",
       "      <th>...</th>\n",
       "      <th>Distance</th>\n",
       "      <th>TaxiIn</th>\n",
       "      <th>TaxiOut</th>\n",
       "      <th>Cancelled</th>\n",
       "      <th>Diverted</th>\n",
       "      <th>CarrierDelay</th>\n",
       "      <th>WeatherDelay</th>\n",
       "      <th>NASDelay</th>\n",
       "      <th>SecurityDelay</th>\n",
       "      <th>LateAircraftDelay</th>\n",
       "    </tr>\n",
       "  </thead>\n",
       "  <tbody>\n",
       "    <tr>\n",
       "      <th>count</th>\n",
       "      <td>605765.0</td>\n",
       "      <td>605765.0</td>\n",
       "      <td>605765.000000</td>\n",
       "      <td>605765.000000</td>\n",
       "      <td>588457.000000</td>\n",
       "      <td>605765.000000</td>\n",
       "      <td>587130.000000</td>\n",
       "      <td>605765.000000</td>\n",
       "      <td>605765.000000</td>\n",
       "      <td>587130.000000</td>\n",
       "      <td>...</td>\n",
       "      <td>605765.000000</td>\n",
       "      <td>587130.000000</td>\n",
       "      <td>588457.000000</td>\n",
       "      <td>605765.000000</td>\n",
       "      <td>605765.000000</td>\n",
       "      <td>148807.000000</td>\n",
       "      <td>148807.000000</td>\n",
       "      <td>148807.000000</td>\n",
       "      <td>148807.000000</td>\n",
       "      <td>148807.000000</td>\n",
       "    </tr>\n",
       "    <tr>\n",
       "      <th>mean</th>\n",
       "      <td>2008.0</td>\n",
       "      <td>1.0</td>\n",
       "      <td>15.908885</td>\n",
       "      <td>3.848879</td>\n",
       "      <td>1341.313469</td>\n",
       "      <td>1330.337020</td>\n",
       "      <td>1491.156790</td>\n",
       "      <td>1499.829660</td>\n",
       "      <td>2229.870511</td>\n",
       "      <td>128.296963</td>\n",
       "      <td>...</td>\n",
       "      <td>720.257461</td>\n",
       "      <td>6.888546</td>\n",
       "      <td>16.797139</td>\n",
       "      <td>0.028572</td>\n",
       "      <td>0.002191</td>\n",
       "      <td>15.832279</td>\n",
       "      <td>2.888493</td>\n",
       "      <td>16.277326</td>\n",
       "      <td>0.086770</td>\n",
       "      <td>21.140054</td>\n",
       "    </tr>\n",
       "    <tr>\n",
       "      <th>std</th>\n",
       "      <td>0.0</td>\n",
       "      <td>0.0</td>\n",
       "      <td>8.994594</td>\n",
       "      <td>1.923451</td>\n",
       "      <td>477.113017</td>\n",
       "      <td>463.361168</td>\n",
       "      <td>502.776793</td>\n",
       "      <td>480.073842</td>\n",
       "      <td>1959.893778</td>\n",
       "      <td>70.263954</td>\n",
       "      <td>...</td>\n",
       "      <td>557.607215</td>\n",
       "      <td>5.014824</td>\n",
       "      <td>10.969598</td>\n",
       "      <td>0.166601</td>\n",
       "      <td>0.046753</td>\n",
       "      <td>39.000363</td>\n",
       "      <td>19.491878</td>\n",
       "      <td>31.697242</td>\n",
       "      <td>1.603085</td>\n",
       "      <td>38.808331</td>\n",
       "    </tr>\n",
       "    <tr>\n",
       "      <th>min</th>\n",
       "      <td>2008.0</td>\n",
       "      <td>1.0</td>\n",
       "      <td>1.000000</td>\n",
       "      <td>1.000000</td>\n",
       "      <td>1.000000</td>\n",
       "      <td>10.000000</td>\n",
       "      <td>1.000000</td>\n",
       "      <td>1.000000</td>\n",
       "      <td>1.000000</td>\n",
       "      <td>15.000000</td>\n",
       "      <td>...</td>\n",
       "      <td>24.000000</td>\n",
       "      <td>0.000000</td>\n",
       "      <td>0.000000</td>\n",
       "      <td>0.000000</td>\n",
       "      <td>0.000000</td>\n",
       "      <td>0.000000</td>\n",
       "      <td>0.000000</td>\n",
       "      <td>0.000000</td>\n",
       "      <td>0.000000</td>\n",
       "      <td>0.000000</td>\n",
       "    </tr>\n",
       "    <tr>\n",
       "      <th>25%</th>\n",
       "      <td>2008.0</td>\n",
       "      <td>1.0</td>\n",
       "      <td>8.000000</td>\n",
       "      <td>2.000000</td>\n",
       "      <td>933.000000</td>\n",
       "      <td>930.000000</td>\n",
       "      <td>1116.000000</td>\n",
       "      <td>1120.000000</td>\n",
       "      <td>614.000000</td>\n",
       "      <td>77.000000</td>\n",
       "      <td>...</td>\n",
       "      <td>321.000000</td>\n",
       "      <td>4.000000</td>\n",
       "      <td>10.000000</td>\n",
       "      <td>0.000000</td>\n",
       "      <td>0.000000</td>\n",
       "      <td>0.000000</td>\n",
       "      <td>0.000000</td>\n",
       "      <td>0.000000</td>\n",
       "      <td>0.000000</td>\n",
       "      <td>0.000000</td>\n",
       "    </tr>\n",
       "    <tr>\n",
       "      <th>50%</th>\n",
       "      <td>2008.0</td>\n",
       "      <td>1.0</td>\n",
       "      <td>16.000000</td>\n",
       "      <td>4.000000</td>\n",
       "      <td>1333.000000</td>\n",
       "      <td>1325.000000</td>\n",
       "      <td>1520.000000</td>\n",
       "      <td>1522.000000</td>\n",
       "      <td>1551.000000</td>\n",
       "      <td>111.000000</td>\n",
       "      <td>...</td>\n",
       "      <td>576.000000</td>\n",
       "      <td>6.000000</td>\n",
       "      <td>14.000000</td>\n",
       "      <td>0.000000</td>\n",
       "      <td>0.000000</td>\n",
       "      <td>0.000000</td>\n",
       "      <td>0.000000</td>\n",
       "      <td>5.000000</td>\n",
       "      <td>0.000000</td>\n",
       "      <td>0.000000</td>\n",
       "    </tr>\n",
       "    <tr>\n",
       "      <th>75%</th>\n",
       "      <td>2008.0</td>\n",
       "      <td>1.0</td>\n",
       "      <td>24.000000</td>\n",
       "      <td>5.000000</td>\n",
       "      <td>1731.000000</td>\n",
       "      <td>1719.000000</td>\n",
       "      <td>1914.000000</td>\n",
       "      <td>1910.000000</td>\n",
       "      <td>3669.000000</td>\n",
       "      <td>159.000000</td>\n",
       "      <td>...</td>\n",
       "      <td>951.000000</td>\n",
       "      <td>8.000000</td>\n",
       "      <td>20.000000</td>\n",
       "      <td>0.000000</td>\n",
       "      <td>0.000000</td>\n",
       "      <td>17.000000</td>\n",
       "      <td>0.000000</td>\n",
       "      <td>20.000000</td>\n",
       "      <td>0.000000</td>\n",
       "      <td>27.000000</td>\n",
       "    </tr>\n",
       "    <tr>\n",
       "      <th>max</th>\n",
       "      <td>2008.0</td>\n",
       "      <td>1.0</td>\n",
       "      <td>31.000000</td>\n",
       "      <td>7.000000</td>\n",
       "      <td>2400.000000</td>\n",
       "      <td>2359.000000</td>\n",
       "      <td>2400.000000</td>\n",
       "      <td>2400.000000</td>\n",
       "      <td>9202.000000</td>\n",
       "      <td>693.000000</td>\n",
       "      <td>...</td>\n",
       "      <td>4962.000000</td>\n",
       "      <td>213.000000</td>\n",
       "      <td>383.000000</td>\n",
       "      <td>1.000000</td>\n",
       "      <td>1.000000</td>\n",
       "      <td>1158.000000</td>\n",
       "      <td>1049.000000</td>\n",
       "      <td>1357.000000</td>\n",
       "      <td>136.000000</td>\n",
       "      <td>897.000000</td>\n",
       "    </tr>\n",
       "  </tbody>\n",
       "</table>\n",
       "<p>8 rows × 24 columns</p>\n",
       "</div>"
      ],
      "text/plain": [
       "           Year     Month     DayofMonth      DayOfWeek        DepTime  \\\n",
       "count  605765.0  605765.0  605765.000000  605765.000000  588457.000000   \n",
       "mean     2008.0       1.0      15.908885       3.848879    1341.313469   \n",
       "std         0.0       0.0       8.994594       1.923451     477.113017   \n",
       "min      2008.0       1.0       1.000000       1.000000       1.000000   \n",
       "25%      2008.0       1.0       8.000000       2.000000     933.000000   \n",
       "50%      2008.0       1.0      16.000000       4.000000    1333.000000   \n",
       "75%      2008.0       1.0      24.000000       5.000000    1731.000000   \n",
       "max      2008.0       1.0      31.000000       7.000000    2400.000000   \n",
       "\n",
       "          CRSDepTime        ArrTime     CRSArrTime      FlightNum  \\\n",
       "count  605765.000000  587130.000000  605765.000000  605765.000000   \n",
       "mean     1330.337020    1491.156790    1499.829660    2229.870511   \n",
       "std       463.361168     502.776793     480.073842    1959.893778   \n",
       "min        10.000000       1.000000       1.000000       1.000000   \n",
       "25%       930.000000    1116.000000    1120.000000     614.000000   \n",
       "50%      1325.000000    1520.000000    1522.000000    1551.000000   \n",
       "75%      1719.000000    1914.000000    1910.000000    3669.000000   \n",
       "max      2359.000000    2400.000000    2400.000000    9202.000000   \n",
       "\n",
       "       ActualElapsedTime  ...       Distance         TaxiIn        TaxiOut  \\\n",
       "count      587130.000000  ...  605765.000000  587130.000000  588457.000000   \n",
       "mean          128.296963  ...     720.257461       6.888546      16.797139   \n",
       "std            70.263954  ...     557.607215       5.014824      10.969598   \n",
       "min            15.000000  ...      24.000000       0.000000       0.000000   \n",
       "25%            77.000000  ...     321.000000       4.000000      10.000000   \n",
       "50%           111.000000  ...     576.000000       6.000000      14.000000   \n",
       "75%           159.000000  ...     951.000000       8.000000      20.000000   \n",
       "max           693.000000  ...    4962.000000     213.000000     383.000000   \n",
       "\n",
       "           Cancelled       Diverted   CarrierDelay   WeatherDelay  \\\n",
       "count  605765.000000  605765.000000  148807.000000  148807.000000   \n",
       "mean        0.028572       0.002191      15.832279       2.888493   \n",
       "std         0.166601       0.046753      39.000363      19.491878   \n",
       "min         0.000000       0.000000       0.000000       0.000000   \n",
       "25%         0.000000       0.000000       0.000000       0.000000   \n",
       "50%         0.000000       0.000000       0.000000       0.000000   \n",
       "75%         0.000000       0.000000      17.000000       0.000000   \n",
       "max         1.000000       1.000000    1158.000000    1049.000000   \n",
       "\n",
       "            NASDelay  SecurityDelay  LateAircraftDelay  \n",
       "count  148807.000000  148807.000000      148807.000000  \n",
       "mean       16.277326       0.086770          21.140054  \n",
       "std        31.697242       1.603085          38.808331  \n",
       "min         0.000000       0.000000           0.000000  \n",
       "25%         0.000000       0.000000           0.000000  \n",
       "50%         5.000000       0.000000           0.000000  \n",
       "75%        20.000000       0.000000          27.000000  \n",
       "max      1357.000000     136.000000         897.000000  \n",
       "\n",
       "[8 rows x 24 columns]"
      ]
     },
     "execution_count": 6,
     "metadata": {},
     "output_type": "execute_result"
    }
   ],
   "source": [
    "df.describe()"
   ]
  },
  {
   "cell_type": "code",
   "execution_count": 7,
   "metadata": {
    "scrolled": false
   },
   "outputs": [
    {
     "name": "stdout",
     "output_type": "stream",
     "text": [
      "<class 'pandas.core.frame.DataFrame'>\n",
      "Int64Index: 605765 entries, 0 to 605764\n",
      "Data columns (total 29 columns):\n",
      " #   Column             Non-Null Count   Dtype  \n",
      "---  ------             --------------   -----  \n",
      " 0   Year               605765 non-null  int64  \n",
      " 1   Month              605765 non-null  int64  \n",
      " 2   DayofMonth         605765 non-null  int64  \n",
      " 3   DayOfWeek          605765 non-null  int64  \n",
      " 4   DepTime            588457 non-null  float64\n",
      " 5   CRSDepTime         605765 non-null  int64  \n",
      " 6   ArrTime            587130 non-null  float64\n",
      " 7   CRSArrTime         605765 non-null  int64  \n",
      " 8   UniqueCarrier      605765 non-null  object \n",
      " 9   FlightNum          605765 non-null  int64  \n",
      " 10  TailNum            595813 non-null  object \n",
      " 11  ActualElapsedTime  587130 non-null  float64\n",
      " 12  CRSElapsedTime     605659 non-null  float64\n",
      " 13  AirTime            587130 non-null  float64\n",
      " 14  ArrDelay           587130 non-null  float64\n",
      " 15  DepDelay           588457 non-null  float64\n",
      " 16  Origin             605765 non-null  object \n",
      " 17  Dest               605765 non-null  object \n",
      " 18  Distance           605765 non-null  int64  \n",
      " 19  TaxiIn             587130 non-null  float64\n",
      " 20  TaxiOut            588457 non-null  float64\n",
      " 21  Cancelled          605765 non-null  int64  \n",
      " 22  CancellationCode   17308 non-null   object \n",
      " 23  Diverted           605765 non-null  int64  \n",
      " 24  CarrierDelay       148807 non-null  float64\n",
      " 25  WeatherDelay       148807 non-null  float64\n",
      " 26  NASDelay           148807 non-null  float64\n",
      " 27  SecurityDelay      148807 non-null  float64\n",
      " 28  LateAircraftDelay  148807 non-null  float64\n",
      "dtypes: float64(14), int64(10), object(5)\n",
      "memory usage: 138.6+ MB\n"
     ]
    }
   ],
   "source": [
    "df.info()"
   ]
  },
  {
   "cell_type": "code",
   "execution_count": 8,
   "metadata": {
    "scrolled": false
   },
   "outputs": [
    {
     "data": {
      "text/html": [
       "<div>\n",
       "<style scoped>\n",
       "    .dataframe tbody tr th:only-of-type {\n",
       "        vertical-align: middle;\n",
       "    }\n",
       "\n",
       "    .dataframe tbody tr th {\n",
       "        vertical-align: top;\n",
       "    }\n",
       "\n",
       "    .dataframe thead th {\n",
       "        text-align: right;\n",
       "    }\n",
       "</style>\n",
       "<table border=\"1\" class=\"dataframe\">\n",
       "  <thead>\n",
       "    <tr style=\"text-align: right;\">\n",
       "      <th></th>\n",
       "      <th>Year</th>\n",
       "      <th>Month</th>\n",
       "      <th>DayofMonth</th>\n",
       "      <th>DayOfWeek</th>\n",
       "      <th>DepTime</th>\n",
       "      <th>CRSDepTime</th>\n",
       "      <th>ArrTime</th>\n",
       "      <th>CRSArrTime</th>\n",
       "      <th>UniqueCarrier</th>\n",
       "      <th>FlightNum</th>\n",
       "      <th>...</th>\n",
       "      <th>TaxiIn</th>\n",
       "      <th>TaxiOut</th>\n",
       "      <th>Cancelled</th>\n",
       "      <th>CancellationCode</th>\n",
       "      <th>Diverted</th>\n",
       "      <th>CarrierDelay</th>\n",
       "      <th>WeatherDelay</th>\n",
       "      <th>NASDelay</th>\n",
       "      <th>SecurityDelay</th>\n",
       "      <th>LateAircraftDelay</th>\n",
       "    </tr>\n",
       "  </thead>\n",
       "  <tbody>\n",
       "    <tr>\n",
       "      <th>420015</th>\n",
       "      <td>2008</td>\n",
       "      <td>1</td>\n",
       "      <td>14</td>\n",
       "      <td>1</td>\n",
       "      <td>NaN</td>\n",
       "      <td>705</td>\n",
       "      <td>NaN</td>\n",
       "      <td>820</td>\n",
       "      <td>MQ</td>\n",
       "      <td>4788</td>\n",
       "      <td>...</td>\n",
       "      <td>NaN</td>\n",
       "      <td>NaN</td>\n",
       "      <td>1</td>\n",
       "      <td>B</td>\n",
       "      <td>0</td>\n",
       "      <td>NaN</td>\n",
       "      <td>NaN</td>\n",
       "      <td>NaN</td>\n",
       "      <td>NaN</td>\n",
       "      <td>NaN</td>\n",
       "    </tr>\n",
       "    <tr>\n",
       "      <th>205407</th>\n",
       "      <td>2008</td>\n",
       "      <td>1</td>\n",
       "      <td>23</td>\n",
       "      <td>3</td>\n",
       "      <td>NaN</td>\n",
       "      <td>1048</td>\n",
       "      <td>NaN</td>\n",
       "      <td>1208</td>\n",
       "      <td>OO</td>\n",
       "      <td>6350</td>\n",
       "      <td>...</td>\n",
       "      <td>NaN</td>\n",
       "      <td>NaN</td>\n",
       "      <td>1</td>\n",
       "      <td>C</td>\n",
       "      <td>0</td>\n",
       "      <td>NaN</td>\n",
       "      <td>NaN</td>\n",
       "      <td>NaN</td>\n",
       "      <td>NaN</td>\n",
       "      <td>NaN</td>\n",
       "    </tr>\n",
       "    <tr>\n",
       "      <th>340396</th>\n",
       "      <td>2008</td>\n",
       "      <td>1</td>\n",
       "      <td>18</td>\n",
       "      <td>5</td>\n",
       "      <td>NaN</td>\n",
       "      <td>625</td>\n",
       "      <td>NaN</td>\n",
       "      <td>746</td>\n",
       "      <td>EV</td>\n",
       "      <td>4723</td>\n",
       "      <td>...</td>\n",
       "      <td>NaN</td>\n",
       "      <td>NaN</td>\n",
       "      <td>1</td>\n",
       "      <td>A</td>\n",
       "      <td>0</td>\n",
       "      <td>NaN</td>\n",
       "      <td>NaN</td>\n",
       "      <td>NaN</td>\n",
       "      <td>NaN</td>\n",
       "      <td>NaN</td>\n",
       "    </tr>\n",
       "    <tr>\n",
       "      <th>126995</th>\n",
       "      <td>2008</td>\n",
       "      <td>1</td>\n",
       "      <td>22</td>\n",
       "      <td>2</td>\n",
       "      <td>NaN</td>\n",
       "      <td>1500</td>\n",
       "      <td>NaN</td>\n",
       "      <td>1630</td>\n",
       "      <td>XE</td>\n",
       "      <td>2987</td>\n",
       "      <td>...</td>\n",
       "      <td>NaN</td>\n",
       "      <td>NaN</td>\n",
       "      <td>1</td>\n",
       "      <td>C</td>\n",
       "      <td>0</td>\n",
       "      <td>NaN</td>\n",
       "      <td>NaN</td>\n",
       "      <td>NaN</td>\n",
       "      <td>NaN</td>\n",
       "      <td>NaN</td>\n",
       "    </tr>\n",
       "    <tr>\n",
       "      <th>405877</th>\n",
       "      <td>2008</td>\n",
       "      <td>1</td>\n",
       "      <td>29</td>\n",
       "      <td>2</td>\n",
       "      <td>NaN</td>\n",
       "      <td>1820</td>\n",
       "      <td>NaN</td>\n",
       "      <td>1940</td>\n",
       "      <td>MQ</td>\n",
       "      <td>4134</td>\n",
       "      <td>...</td>\n",
       "      <td>NaN</td>\n",
       "      <td>NaN</td>\n",
       "      <td>1</td>\n",
       "      <td>C</td>\n",
       "      <td>0</td>\n",
       "      <td>NaN</td>\n",
       "      <td>NaN</td>\n",
       "      <td>NaN</td>\n",
       "      <td>NaN</td>\n",
       "      <td>NaN</td>\n",
       "    </tr>\n",
       "    <tr>\n",
       "      <th>393292</th>\n",
       "      <td>2008</td>\n",
       "      <td>1</td>\n",
       "      <td>27</td>\n",
       "      <td>7</td>\n",
       "      <td>NaN</td>\n",
       "      <td>1255</td>\n",
       "      <td>NaN</td>\n",
       "      <td>1415</td>\n",
       "      <td>MQ</td>\n",
       "      <td>3636</td>\n",
       "      <td>...</td>\n",
       "      <td>NaN</td>\n",
       "      <td>NaN</td>\n",
       "      <td>1</td>\n",
       "      <td>B</td>\n",
       "      <td>0</td>\n",
       "      <td>NaN</td>\n",
       "      <td>NaN</td>\n",
       "      <td>NaN</td>\n",
       "      <td>NaN</td>\n",
       "      <td>NaN</td>\n",
       "    </tr>\n",
       "    <tr>\n",
       "      <th>405942</th>\n",
       "      <td>2008</td>\n",
       "      <td>1</td>\n",
       "      <td>1</td>\n",
       "      <td>2</td>\n",
       "      <td>NaN</td>\n",
       "      <td>1420</td>\n",
       "      <td>NaN</td>\n",
       "      <td>1735</td>\n",
       "      <td>MQ</td>\n",
       "      <td>4138</td>\n",
       "      <td>...</td>\n",
       "      <td>NaN</td>\n",
       "      <td>NaN</td>\n",
       "      <td>1</td>\n",
       "      <td>B</td>\n",
       "      <td>0</td>\n",
       "      <td>NaN</td>\n",
       "      <td>NaN</td>\n",
       "      <td>NaN</td>\n",
       "      <td>NaN</td>\n",
       "      <td>NaN</td>\n",
       "    </tr>\n",
       "    <tr>\n",
       "      <th>399910</th>\n",
       "      <td>2008</td>\n",
       "      <td>1</td>\n",
       "      <td>1</td>\n",
       "      <td>2</td>\n",
       "      <td>NaN</td>\n",
       "      <td>1555</td>\n",
       "      <td>NaN</td>\n",
       "      <td>1750</td>\n",
       "      <td>MQ</td>\n",
       "      <td>3921</td>\n",
       "      <td>...</td>\n",
       "      <td>NaN</td>\n",
       "      <td>NaN</td>\n",
       "      <td>1</td>\n",
       "      <td>B</td>\n",
       "      <td>0</td>\n",
       "      <td>NaN</td>\n",
       "      <td>NaN</td>\n",
       "      <td>NaN</td>\n",
       "      <td>NaN</td>\n",
       "      <td>NaN</td>\n",
       "    </tr>\n",
       "    <tr>\n",
       "      <th>214527</th>\n",
       "      <td>2008</td>\n",
       "      <td>1</td>\n",
       "      <td>29</td>\n",
       "      <td>2</td>\n",
       "      <td>NaN</td>\n",
       "      <td>2130</td>\n",
       "      <td>NaN</td>\n",
       "      <td>2226</td>\n",
       "      <td>OO</td>\n",
       "      <td>5939</td>\n",
       "      <td>...</td>\n",
       "      <td>NaN</td>\n",
       "      <td>NaN</td>\n",
       "      <td>1</td>\n",
       "      <td>B</td>\n",
       "      <td>0</td>\n",
       "      <td>NaN</td>\n",
       "      <td>NaN</td>\n",
       "      <td>NaN</td>\n",
       "      <td>NaN</td>\n",
       "      <td>NaN</td>\n",
       "    </tr>\n",
       "    <tr>\n",
       "      <th>522389</th>\n",
       "      <td>2008</td>\n",
       "      <td>1</td>\n",
       "      <td>3</td>\n",
       "      <td>4</td>\n",
       "      <td>NaN</td>\n",
       "      <td>1320</td>\n",
       "      <td>NaN</td>\n",
       "      <td>1500</td>\n",
       "      <td>AA</td>\n",
       "      <td>2023</td>\n",
       "      <td>...</td>\n",
       "      <td>NaN</td>\n",
       "      <td>NaN</td>\n",
       "      <td>1</td>\n",
       "      <td>A</td>\n",
       "      <td>0</td>\n",
       "      <td>NaN</td>\n",
       "      <td>NaN</td>\n",
       "      <td>NaN</td>\n",
       "      <td>NaN</td>\n",
       "      <td>NaN</td>\n",
       "    </tr>\n",
       "  </tbody>\n",
       "</table>\n",
       "<p>10 rows × 29 columns</p>\n",
       "</div>"
      ],
      "text/plain": [
       "        Year  Month  DayofMonth  DayOfWeek  DepTime  CRSDepTime  ArrTime  \\\n",
       "420015  2008      1          14          1      NaN         705      NaN   \n",
       "205407  2008      1          23          3      NaN        1048      NaN   \n",
       "340396  2008      1          18          5      NaN         625      NaN   \n",
       "126995  2008      1          22          2      NaN        1500      NaN   \n",
       "405877  2008      1          29          2      NaN        1820      NaN   \n",
       "393292  2008      1          27          7      NaN        1255      NaN   \n",
       "405942  2008      1           1          2      NaN        1420      NaN   \n",
       "399910  2008      1           1          2      NaN        1555      NaN   \n",
       "214527  2008      1          29          2      NaN        2130      NaN   \n",
       "522389  2008      1           3          4      NaN        1320      NaN   \n",
       "\n",
       "        CRSArrTime UniqueCarrier  FlightNum  ... TaxiIn  TaxiOut  Cancelled  \\\n",
       "420015         820            MQ       4788  ...    NaN      NaN          1   \n",
       "205407        1208            OO       6350  ...    NaN      NaN          1   \n",
       "340396         746            EV       4723  ...    NaN      NaN          1   \n",
       "126995        1630            XE       2987  ...    NaN      NaN          1   \n",
       "405877        1940            MQ       4134  ...    NaN      NaN          1   \n",
       "393292        1415            MQ       3636  ...    NaN      NaN          1   \n",
       "405942        1735            MQ       4138  ...    NaN      NaN          1   \n",
       "399910        1750            MQ       3921  ...    NaN      NaN          1   \n",
       "214527        2226            OO       5939  ...    NaN      NaN          1   \n",
       "522389        1500            AA       2023  ...    NaN      NaN          1   \n",
       "\n",
       "        CancellationCode  Diverted  CarrierDelay WeatherDelay NASDelay  \\\n",
       "420015                 B         0           NaN          NaN      NaN   \n",
       "205407                 C         0           NaN          NaN      NaN   \n",
       "340396                 A         0           NaN          NaN      NaN   \n",
       "126995                 C         0           NaN          NaN      NaN   \n",
       "405877                 C         0           NaN          NaN      NaN   \n",
       "393292                 B         0           NaN          NaN      NaN   \n",
       "405942                 B         0           NaN          NaN      NaN   \n",
       "399910                 B         0           NaN          NaN      NaN   \n",
       "214527                 B         0           NaN          NaN      NaN   \n",
       "522389                 A         0           NaN          NaN      NaN   \n",
       "\n",
       "        SecurityDelay  LateAircraftDelay  \n",
       "420015            NaN                NaN  \n",
       "205407            NaN                NaN  \n",
       "340396            NaN                NaN  \n",
       "126995            NaN                NaN  \n",
       "405877            NaN                NaN  \n",
       "393292            NaN                NaN  \n",
       "405942            NaN                NaN  \n",
       "399910            NaN                NaN  \n",
       "214527            NaN                NaN  \n",
       "522389            NaN                NaN  \n",
       "\n",
       "[10 rows x 29 columns]"
      ]
     },
     "execution_count": 8,
     "metadata": {},
     "output_type": "execute_result"
    }
   ],
   "source": [
    "df[df.Cancelled==1].sample(10)"
   ]
  },
  {
   "cell_type": "code",
   "execution_count": 9,
   "metadata": {},
   "outputs": [
    {
     "data": {
      "text/plain": [
       "N484HA    398\n",
       "N480HA    391\n",
       "N835AL    388\n",
       "N836AL    383\n",
       "N487HA    379\n",
       "         ... \n",
       "N184DN      1\n",
       "N7BTAA      1\n",
       "N171DN      1\n",
       "N217UA      1\n",
       "N799UA      1\n",
       "Name: TailNum, Length: 4878, dtype: int64"
      ]
     },
     "execution_count": 9,
     "metadata": {},
     "output_type": "execute_result"
    }
   ],
   "source": [
    "df.TailNum.value_counts()"
   ]
  },
  {
   "cell_type": "markdown",
   "metadata": {},
   "source": [
    "### What is the structure of your dataset?\n",
    "\n",
    "The dataset has 605,765 entries with 29 attributes. There is a mix of datatypes. For instance, there are categorical data (e.g. Cancelled in boolean), numerical data (e.g. Distance), and datetime data (e.g. Departure Time).\n",
    "\n",
    "### What is/are the main feature(s) of interest in your dataset?\n",
    "\n",
    "I am interested in investigating which attributes best predict flight cancellations.\n",
    "\n",
    "### What features in the dataset do you think will help support your investigation into your feature(s) of interest?\n",
    "\n",
    "Since a lot of the attributes are marked as NaN for cancelled flights, predictive attributes are limited to the attributes with data. \n",
    "\n",
    "From the attributes with data, I expect the following to have an impact (listed from what I think would have the highest correlation):\n",
    "1. Carrier\n",
    "2. Certain Planes (TailNum)\n",
    "3. Certain Locations (Origin and Destinations)\n",
    "4. Departure Time\n",
    "5. Distance\n",
    "6. Day of the Week"
   ]
  },
  {
   "cell_type": "markdown",
   "metadata": {},
   "source": [
    "## Univariate Exploration\n"
   ]
  },
  {
   "cell_type": "code",
   "execution_count": 10,
   "metadata": {
    "scrolled": true
   },
   "outputs": [
    {
     "data": {
      "image/png": "[encoded data removed]",
      "text/plain": [
       "<Figure size 432x288 with 1 Axes>"
      ]
     },
     "metadata": {
      "needs_background": "light"
     },
     "output_type": "display_data"
    }
   ],
   "source": [
    "#Flights cancelled\n",
    "\n",
    "sb.countplot(df.Cancelled, color='green');"
   ]
  },
  {
   "cell_type": "markdown",
   "metadata": {},
   "source": [
    "**Comments:** It is clear that there is a very small percent of flights that are cancelled.\n",
    "\n",
    "**Next:** To look at only cancelled flights, a DataFrame named df2 will be created to analyze later on. Flight cancellations codes will also be plotted by count to see if we can determine any trends from it."
   ]
  },
  {
   "cell_type": "code",
   "execution_count": 11,
   "metadata": {},
   "outputs": [],
   "source": [
    "# Query cancelled flights only as df2\n",
    "\n",
    "df2=df[df.Cancelled==1]"
   ]
  },
  {
   "cell_type": "code",
   "execution_count": 12,
   "metadata": {
    "scrolled": true
   },
   "outputs": [
    {
     "data": {
      "image/png": "[encoded data removed]",
      "text/plain": [
       "<Figure size 432x288 with 1 Axes>"
      ]
     },
     "metadata": {
      "needs_background": "light"
     },
     "output_type": "display_data"
    }
   ],
   "source": [
    "#Flight cancellation code count\n",
    "\n",
    "order1= ['A', 'B', 'C', 'D']\n",
    "sb.countplot(df.CancellationCode, color='green', order=order1);"
   ]
  },
  {
   "cell_type": "markdown",
   "metadata": {},
   "source": [
    "**Comments:** It appears that most cancellations are due to carrier reasons (A), weather (B), and NAS (C), which is an umbrella category for cancellations that could have been addressed by the National Aviation System. \n",
    "\n",
    "This appears to confirm that certain origins/destinations and carriers/planes might have higher cancellations due to propensity for certain weather conditions and carrier/plane quality.\n",
    "\n",
    "**Next:** I will look at quantity of flights per carrier, origins, and destinations for all flights and cancelled flights."
   ]
  },
  {
   "cell_type": "code",
   "execution_count": 13,
   "metadata": {
    "scrolled": false
   },
   "outputs": [
    {
     "data": {
      "image/png": "[encoded data removed]",
      "text/plain": [
       "<Figure size 432x288 with 1 Axes>"
      ]
     },
     "metadata": {
      "needs_background": "light"
     },
     "output_type": "display_data"
    }
   ],
   "source": [
    "#Flight carrier count (all flights)\n",
    "\n",
    "order2=df.UniqueCarrier.value_counts().nlargest(20).index\n",
    "sb.countplot(data=df,x='UniqueCarrier', color='green', order=order2);"
   ]
  },
  {
   "cell_type": "code",
   "execution_count": 14,
   "metadata": {},
   "outputs": [
    {
     "data": {
      "image/png": "[encoded data removed]",
      "text/plain": [
       "<Figure size 432x288 with 1 Axes>"
      ]
     },
     "metadata": {
      "needs_background": "light"
     },
     "output_type": "display_data"
    }
   ],
   "source": [
    "#Flight carrier count (cancelled flights)\n",
    "\n",
    "order2=df2.UniqueCarrier.value_counts().nlargest(20).index\n",
    "sb.countplot(data=df2,x='UniqueCarrier', color='green', order=order2);"
   ]
  },
  {
   "cell_type": "code",
   "execution_count": 15,
   "metadata": {
    "scrolled": false
   },
   "outputs": [
    {
     "data": {
      "image/png": "[encoded data removed]",
      "text/plain": [
       "<Figure size 432x288 with 1 Axes>"
      ]
     },
     "metadata": {
      "needs_background": "light"
     },
     "output_type": "display_data"
    }
   ],
   "source": [
    "#Flight destination count (all flights)\n",
    "\n",
    "order3=df.Dest.value_counts().nlargest(15).index\n",
    "sb.countplot(data=df, x='Dest', color='green', order=order3);"
   ]
  },
  {
   "cell_type": "code",
   "execution_count": 16,
   "metadata": {},
   "outputs": [
    {
     "data": {
      "image/png": "[encoded data removed]",
      "text/plain": [
       "<Figure size 432x288 with 1 Axes>"
      ]
     },
     "metadata": {
      "needs_background": "light"
     },
     "output_type": "display_data"
    }
   ],
   "source": [
    "#Flight destination count (cancelled)\n",
    "\n",
    "order3=df2.Dest.value_counts().nlargest(15).index\n",
    "sb.countplot(data=df2, x='Dest', color='green', order=order3);"
   ]
  },
  {
   "cell_type": "code",
   "execution_count": 17,
   "metadata": {
    "scrolled": true
   },
   "outputs": [
    {
     "data": {
      "image/png": "[encoded data removed]",
      "text/plain": [
       "<Figure size 432x288 with 1 Axes>"
      ]
     },
     "metadata": {
      "needs_background": "light"
     },
     "output_type": "display_data"
    }
   ],
   "source": [
    "#Flight origin count (all flights)\n",
    "\n",
    "order4=df.Origin.value_counts().nlargest(15).index\n",
    "sb.countplot(data=df, x='Origin', color='green', order=order4);"
   ]
  },
  {
   "cell_type": "code",
   "execution_count": 18,
   "metadata": {},
   "outputs": [
    {
     "data": {
      "image/png": "[encoded data removed]",
      "text/plain": [
       "<Figure size 432x288 with 1 Axes>"
      ]
     },
     "metadata": {
      "needs_background": "light"
     },
     "output_type": "display_data"
    }
   ],
   "source": [
    "#Flight origin count (cancelled)\n",
    "\n",
    "order4=df2.Origin.value_counts().nlargest(15).index\n",
    "sb.countplot(data=df2, x='Origin', color='green', order=order4);"
   ]
  },
  {
   "cell_type": "markdown",
   "metadata": {},
   "source": [
    "**Comments:**  For the features shown above for carriers and location, the distribution does not appear unusual as these are categorical. Towards the larger ends, some of the carriers/locations have more flights due to increased market share than the next highest carriers/locations, but this is expected.\n",
    "\n",
    "If you look at the all flight vs cancelled graphs, you can tell some locations/carriers have a bias towards cancellation. This is more of a bivariate exploration, though, and will be noted later in this report.\n",
    "    \n",
    "**Next:** I will look at flights per plane to see if there are unusual distribution behaviors."
   ]
  },
  {
   "cell_type": "code",
   "execution_count": 19,
   "metadata": {
    "scrolled": true
   },
   "outputs": [
    {
     "data": {
      "image/png": "[encoded data removed]",
      "text/plain": [
       "<Figure size 432x288 with 1 Axes>"
      ]
     },
     "metadata": {
      "needs_background": "light"
     },
     "output_type": "display_data"
    }
   ],
   "source": [
    "#Planes with lowest flight counts\n",
    "\n",
    "order5=df.TailNum.value_counts().nsmallest(150).index\n",
    "sb.countplot(data=df, x='TailNum', color='green', order=order5);\n",
    "plt.xticks(rotation=90);"
   ]
  },
  {
   "cell_type": "code",
   "execution_count": 20,
   "metadata": {},
   "outputs": [
    {
     "data": {
      "image/png": "[encoded data removed]",
      "text/plain": [
       "<Figure size 432x288 with 1 Axes>"
      ]
     },
     "metadata": {
      "needs_background": "light"
     },
     "output_type": "display_data"
    }
   ],
   "source": [
    "#Planes with highest flight counts\n",
    "\n",
    "order5=df.TailNum.value_counts().nlargest(150).index\n",
    "sb.countplot(data=df, x='TailNum', color='green', order=order5);\n",
    "plt.xticks(rotation=90);"
   ]
  },
  {
   "cell_type": "markdown",
   "metadata": {},
   "source": [
    "**Comments:** Due to runtime, I have only run the planes with the lowest and highest counts. It appears that the distribution gradually varies between 1 to 400. It is unclear how this might reflect on cancelled flights. It is possible smaller planes are more defective, for instance.\n",
    "\n",
    "**Next:** I will be looking at flight counts according to distance, departure time, and day of the week."
   ]
  },
  {
   "cell_type": "code",
   "execution_count": 21,
   "metadata": {
    "scrolled": false
   },
   "outputs": [
    {
     "data": {
      "image/png": "[encoded data removed]",
      "text/plain": [
       "<Figure size 432x288 with 1 Axes>"
      ]
     },
     "metadata": {
      "needs_background": "light"
     },
     "output_type": "display_data"
    }
   ],
   "source": [
    "#Flight distance count by bins (all flights)\n",
    "\n",
    "plt.hist(data=df,x='Distance',bins=100);\n",
    "plt.xlim(0,5000);"
   ]
  },
  {
   "cell_type": "code",
   "execution_count": 22,
   "metadata": {
    "scrolled": true
   },
   "outputs": [
    {
     "data": {
      "image/png": "[encoded data removed]",
      "text/plain": [
       "<Figure size 432x288 with 1 Axes>"
      ]
     },
     "metadata": {
      "needs_background": "light"
     },
     "output_type": "display_data"
    }
   ],
   "source": [
    "#Transformed to logscale\n",
    "\n",
    "plt.hist(data=df,x='Distance',bins=100);\n",
    "plt.xscale('log');"
   ]
  },
  {
   "cell_type": "code",
   "execution_count": 23,
   "metadata": {
    "scrolled": true
   },
   "outputs": [
    {
     "data": {
      "image/png": "[encoded data removed]",
      "text/plain": [
       "<Figure size 432x288 with 1 Axes>"
      ]
     },
     "metadata": {
      "needs_background": "light"
     },
     "output_type": "display_data"
    }
   ],
   "source": [
    "#Flight distance count by bins (cancelled flights)\n",
    "\n",
    "plt.hist(data=df2,x='Distance',bins=100);\n",
    "plt.xlim(0,5000);"
   ]
  },
  {
   "cell_type": "code",
   "execution_count": 24,
   "metadata": {},
   "outputs": [
    {
     "data": {
      "image/png": "[encoded data removed]",
      "text/plain": [
       "<Figure size 432x288 with 1 Axes>"
      ]
     },
     "metadata": {
      "needs_background": "light"
     },
     "output_type": "display_data"
    }
   ],
   "source": [
    "#Flight day of the week count. (all flights)\n",
    "\n",
    "sb.countplot(data = df, x = 'DayOfWeek', color = 'green');"
   ]
  },
  {
   "cell_type": "code",
   "execution_count": 25,
   "metadata": {},
   "outputs": [
    {
     "data": {
      "image/png": "[encoded data removed]",
      "text/plain": [
       "<Figure size 432x288 with 1 Axes>"
      ]
     },
     "metadata": {
      "needs_background": "light"
     },
     "output_type": "display_data"
    }
   ],
   "source": [
    "#Flight day of the week count. (cancelled flights)\n",
    "\n",
    "sb.countplot(data = df2, x = 'DayOfWeek', color = 'green');"
   ]
  },
  {
   "cell_type": "code",
   "execution_count": 26,
   "metadata": {
    "scrolled": true
   },
   "outputs": [
    {
     "data": {
      "image/png": "[encoded data removed]",
      "text/plain": [
       "<Figure size 432x288 with 1 Axes>"
      ]
     },
     "metadata": {
      "needs_background": "light"
     },
     "output_type": "display_data"
    }
   ],
   "source": [
    "#Flight schedule departure time count by the hour. (all flights)\n",
    "\n",
    "ticks1=[0,100,200,300,400,500,600,700,800,900,1000,1100,1200,1300,1400,1500,1600,1700,1800,1900,2000,2100,2200,2300,2400]\n",
    "bins1=[0,100,200,300,400,500,600,700,800,900,1000,1100,1200,1300,1400,1500,1600,1700,1800,1900,2000,2100,2200,2300,2400]\n",
    "plt.hist(data=df,x='CRSDepTime',bins=bins1, rwidth=8/10);\n",
    "plt.xlim(0,2400);\n",
    "plt.xticks(ticks1,ticks1);\n",
    "plt.xticks(rotation=90);"
   ]
  },
  {
   "cell_type": "code",
   "execution_count": 27,
   "metadata": {},
   "outputs": [
    {
     "data": {
      "image/png": "[encoded data removed]",
      "text/plain": [
       "<Figure size 432x288 with 1 Axes>"
      ]
     },
     "metadata": {
      "needs_background": "light"
     },
     "output_type": "display_data"
    }
   ],
   "source": [
    "#Flight schedule departure time count by the hour. (cancelled flights)\n",
    "\n",
    "ticks1=[0,100,200,300,400,500,600,700,800,900,1000,1100,1200,1300,1400,1500,1600,1700,1800,1900,2000,2100,2200,2300,2400]\n",
    "bins1=[0,100,200,300,400,500,600,700,800,900,1000,1100,1200,1300,1400,1500,1600,1700,1800,1900,2000,2100,2200,2300,2400]\n",
    "plt.hist(data=df2,x='CRSDepTime',bins=bins1, rwidth=8/10);\n",
    "plt.xlim(0,2400);\n",
    "plt.xticks(ticks1,ticks1);\n",
    "plt.xticks(rotation=90);"
   ]
  },
  {
   "cell_type": "markdown",
   "metadata": {},
   "source": [
    "**Comments:** For all flights, it appears that the distribution for distance skews right. This means that there are few flights with big distances. When plotted with a log transform, the graph appears slightly bimodal but still conveys the same information. For cancelled flights, the cancelled flights have a distance less than 3000 mi generally. \n",
    "\n",
    "Flights appear to be mostly well distributed between days of the week for both all flights and for cancelled flights. Similarly, flights appear to be mostly well distributed between hours 6 and 21. The rest of the time flights are minimal or non-existent (from 2 to 5am). At a glance, the difference between 'all flight' and 'cancelled' graphs indicate there is a pattern there to be analyzed via bivariate exploration."
   ]
  },
  {
   "cell_type": "markdown",
   "metadata": {},
   "source": [
    "### Discuss the distribution(s) of your variable(s) of interest. Were there any unusual points? Did you need to perform any transformations?\n",
    "\n",
    "My value of interest is cancellations, which is marked either 0 or 1 to determine how many flights are cancelled. This data appears to be clean as only 0 and 1 have been inputted. It is clear that cancellations make up a small percent of all flights. No transformations were performed.\n",
    "\n",
    "### Of the features you investigated, were there any unusual distributions? Did you perform any operations on the data to tidy, adjust, or change the form of the data? If so, why did you do this?\n",
    "\n",
    "The distribution for the departure times were unusual, but this was due to human scheduling of flights leading to less overnight flights. The flight distance distribution was a bit unusual due to it spiking, but not unexpected.\n",
    "\n",
    "I created a df2 table for only cancelled flights, which is what we are trying to predict. I also set the distance count to log scale to see if any other insights were visible, but nothing new was noted.\n"
   ]
  },
  {
   "cell_type": "markdown",
   "metadata": {},
   "source": [
    "## Bivariate Exploration"
   ]
  },
  {
   "cell_type": "markdown",
   "metadata": {},
   "source": [
    "I will start by looking at joined cancelled vs not cancelled clustered bars for features above starting with carriers."
   ]
  },
  {
   "cell_type": "code",
   "execution_count": 38,
   "metadata": {},
   "outputs": [
    {
     "data": {
      "image/png": "[encoded data removed]",
      "text/plain": [
       "<Figure size 432x288 with 1 Axes>"
      ]
     },
     "metadata": {
      "needs_background": "light"
     },
     "output_type": "display_data"
    }
   ],
   "source": [
    "#Clustered bar chart for cancelled and non-cancelled flights per carrier\n",
    "\n",
    "sb.countplot(data = df, x = 'UniqueCarrier', hue = 'Cancelled');"
   ]
  },
  {
   "cell_type": "code",
   "execution_count": 39,
   "metadata": {},
   "outputs": [
    {
     "data": {
      "image/png": "[encoded data removed]",
      "text/plain": [
       "<Figure size 432x288 with 1 Axes>"
      ]
     },
     "metadata": {
      "needs_background": "light"
     },
     "output_type": "display_data"
    }
   ],
   "source": [
    "#Y axis range limited to observe cancelled bars.\n",
    "\n",
    "sb.countplot(data = df, x = 'UniqueCarrier', hue = 'Cancelled');\n",
    "plt.ylim(0,52000);"
   ]
  },
  {
   "cell_type": "code",
   "execution_count": 41,
   "metadata": {},
   "outputs": [],
   "source": [
    "#Feature engineering new cancellation proportion table for Carrier.\n",
    "\n",
    "df3=pd.DataFrame(df2.groupby('UniqueCarrier').Cancelled.count())\n",
    "df3['all_flights']=pd.DataFrame(df.groupby('UniqueCarrier').Cancelled.count())\n",
    "df3['cancelled_prop']=df3['Cancelled']*100/df3['all_flights']\n",
    "df3=df3.sort_values('cancelled_prop', ascending=False)\n",
    "df3=df3.reset_index()"
   ]
  },
  {
   "cell_type": "code",
   "execution_count": 40,
   "metadata": {},
   "outputs": [
    {
     "data": {
      "image/png": "[encoded data removed]",
      "text/plain": [
       "<Figure size 432x288 with 1 Axes>"
      ]
     },
     "metadata": {
      "needs_background": "light"
     },
     "output_type": "display_data"
    }
   ],
   "source": [
    "#Barplot cancellation %s per Unique Carrier.\n",
    "\n",
    "sb.barplot(data=df3, x='UniqueCarrier', y='cancelled_prop', palette='deep');\n",
    "plt.ylabel('Cancellation % Relative to Total Flights');"
   ]
  },
  {
   "cell_type": "markdown",
   "metadata": {},
   "source": [
    "**Comments:** Based on the graph above, some carriers have a higher percentage of cancelled flights. WN, for example, has a low percentage of cancelled flights considering it has so many total flights. This was clarified by feature engineering a column of cancelled flights per carrier. In this graph, it is clear that airlines such as YV, MQ, OO, 93, and EV have much higher cancellation rates relative to WN and AA.\n",
    "\n",
    "**Next:** I will be looking at creating proportion bars for the destination and origin flights."
   ]
  },
  {
   "cell_type": "code",
   "execution_count": 53,
   "metadata": {},
   "outputs": [
    {
     "data": {
      "text/html": [
       "<div>\n",
       "<style scoped>\n",
       "    .dataframe tbody tr th:only-of-type {\n",
       "        vertical-align: middle;\n",
       "    }\n",
       "\n",
       "    .dataframe tbody tr th {\n",
       "        vertical-align: top;\n",
       "    }\n",
       "\n",
       "    .dataframe thead th {\n",
       "        text-align: right;\n",
       "    }\n",
       "</style>\n",
       "<table border=\"1\" class=\"dataframe\">\n",
       "  <thead>\n",
       "    <tr style=\"text-align: right;\">\n",
       "      <th></th>\n",
       "      <th>Dest</th>\n",
       "      <th>Cancelled</th>\n",
       "      <th>all_flights</th>\n",
       "      <th>cancelled_prop</th>\n",
       "    </tr>\n",
       "  </thead>\n",
       "  <tbody>\n",
       "    <tr>\n",
       "      <th>0</th>\n",
       "      <td>PLN</td>\n",
       "      <td>10</td>\n",
       "      <td>25</td>\n",
       "      <td>40.000000</td>\n",
       "    </tr>\n",
       "    <tr>\n",
       "      <th>1</th>\n",
       "      <td>TEX</td>\n",
       "      <td>14</td>\n",
       "      <td>54</td>\n",
       "      <td>25.925926</td>\n",
       "    </tr>\n",
       "    <tr>\n",
       "      <th>2</th>\n",
       "      <td>ALO</td>\n",
       "      <td>7</td>\n",
       "      <td>27</td>\n",
       "      <td>25.925926</td>\n",
       "    </tr>\n",
       "    <tr>\n",
       "      <th>3</th>\n",
       "      <td>CMX</td>\n",
       "      <td>8</td>\n",
       "      <td>31</td>\n",
       "      <td>25.806452</td>\n",
       "    </tr>\n",
       "    <tr>\n",
       "      <th>4</th>\n",
       "      <td>CWA</td>\n",
       "      <td>23</td>\n",
       "      <td>120</td>\n",
       "      <td>19.166667</td>\n",
       "    </tr>\n",
       "    <tr>\n",
       "      <th>5</th>\n",
       "      <td>SUN</td>\n",
       "      <td>41</td>\n",
       "      <td>217</td>\n",
       "      <td>18.894009</td>\n",
       "    </tr>\n",
       "    <tr>\n",
       "      <th>6</th>\n",
       "      <td>SUX</td>\n",
       "      <td>6</td>\n",
       "      <td>37</td>\n",
       "      <td>16.216216</td>\n",
       "    </tr>\n",
       "    <tr>\n",
       "      <th>7</th>\n",
       "      <td>RHI</td>\n",
       "      <td>5</td>\n",
       "      <td>31</td>\n",
       "      <td>16.129032</td>\n",
       "    </tr>\n",
       "    <tr>\n",
       "      <th>8</th>\n",
       "      <td>AZO</td>\n",
       "      <td>57</td>\n",
       "      <td>359</td>\n",
       "      <td>15.877437</td>\n",
       "    </tr>\n",
       "    <tr>\n",
       "      <th>9</th>\n",
       "      <td>LSE</td>\n",
       "      <td>23</td>\n",
       "      <td>161</td>\n",
       "      <td>14.285714</td>\n",
       "    </tr>\n",
       "    <tr>\n",
       "      <th>10</th>\n",
       "      <td>DBQ</td>\n",
       "      <td>17</td>\n",
       "      <td>120</td>\n",
       "      <td>14.166667</td>\n",
       "    </tr>\n",
       "    <tr>\n",
       "      <th>11</th>\n",
       "      <td>MQT</td>\n",
       "      <td>12</td>\n",
       "      <td>85</td>\n",
       "      <td>14.117647</td>\n",
       "    </tr>\n",
       "    <tr>\n",
       "      <th>12</th>\n",
       "      <td>ASE</td>\n",
       "      <td>97</td>\n",
       "      <td>711</td>\n",
       "      <td>13.642757</td>\n",
       "    </tr>\n",
       "    <tr>\n",
       "      <th>13</th>\n",
       "      <td>BRO</td>\n",
       "      <td>14</td>\n",
       "      <td>107</td>\n",
       "      <td>13.084112</td>\n",
       "    </tr>\n",
       "    <tr>\n",
       "      <th>14</th>\n",
       "      <td>SBN</td>\n",
       "      <td>56</td>\n",
       "      <td>437</td>\n",
       "      <td>12.814645</td>\n",
       "    </tr>\n",
       "    <tr>\n",
       "      <th>15</th>\n",
       "      <td>RST</td>\n",
       "      <td>44</td>\n",
       "      <td>355</td>\n",
       "      <td>12.394366</td>\n",
       "    </tr>\n",
       "    <tr>\n",
       "      <th>16</th>\n",
       "      <td>MBS</td>\n",
       "      <td>27</td>\n",
       "      <td>228</td>\n",
       "      <td>11.842105</td>\n",
       "    </tr>\n",
       "    <tr>\n",
       "      <th>17</th>\n",
       "      <td>TOL</td>\n",
       "      <td>18</td>\n",
       "      <td>152</td>\n",
       "      <td>11.842105</td>\n",
       "    </tr>\n",
       "    <tr>\n",
       "      <th>18</th>\n",
       "      <td>ERI</td>\n",
       "      <td>12</td>\n",
       "      <td>109</td>\n",
       "      <td>11.009174</td>\n",
       "    </tr>\n",
       "    <tr>\n",
       "      <th>19</th>\n",
       "      <td>FLG</td>\n",
       "      <td>16</td>\n",
       "      <td>148</td>\n",
       "      <td>10.810811</td>\n",
       "    </tr>\n",
       "  </tbody>\n",
       "</table>\n",
       "</div>"
      ],
      "text/plain": [
       "   Dest  Cancelled  all_flights  cancelled_prop\n",
       "0   PLN         10           25       40.000000\n",
       "1   TEX         14           54       25.925926\n",
       "2   ALO          7           27       25.925926\n",
       "3   CMX          8           31       25.806452\n",
       "4   CWA         23          120       19.166667\n",
       "5   SUN         41          217       18.894009\n",
       "6   SUX          6           37       16.216216\n",
       "7   RHI          5           31       16.129032\n",
       "8   AZO         57          359       15.877437\n",
       "9   LSE         23          161       14.285714\n",
       "10  DBQ         17          120       14.166667\n",
       "11  MQT         12           85       14.117647\n",
       "12  ASE         97          711       13.642757\n",
       "13  BRO         14          107       13.084112\n",
       "14  SBN         56          437       12.814645\n",
       "15  RST         44          355       12.394366\n",
       "16  MBS         27          228       11.842105\n",
       "17  TOL         18          152       11.842105\n",
       "18  ERI         12          109       11.009174\n",
       "19  FLG         16          148       10.810811"
      ]
     },
     "execution_count": 53,
     "metadata": {},
     "output_type": "execute_result"
    }
   ],
   "source": [
    "#Feature engineering new destination proportion table for Destination.\n",
    "df4=pd.DataFrame(df2.groupby('Dest').Cancelled.count())\n",
    "df4['all_flights']=pd.DataFrame(df.groupby('Dest').Cancelled.count())\n",
    "df4['cancelled_prop']=df4['Cancelled']*100/df4['all_flights']\n",
    "df4=df4.sort_values('cancelled_prop', ascending=False).head(20)\n",
    "df4=df4.reset_index()"
   ]
  },
  {
   "cell_type": "code",
   "execution_count": 56,
   "metadata": {},
   "outputs": [
    {
     "data": {
      "image/png": "[encoded data removed]",
      "text/plain": [
       "<Figure size 432x288 with 1 Axes>"
      ]
     },
     "metadata": {
      "needs_background": "light"
     },
     "output_type": "display_data"
    }
   ],
   "source": [
    "#Barplot cancellation %s per Destination.\n",
    "sb.barplot(data=df4, x='Dest', y='cancelled_prop', palette='deep');\n",
    "plt.ylabel('Cancellation % Relative to Total Flights');\n",
    "plt.xticks(rotation=90);"
   ]
  },
  {
   "cell_type": "code",
   "execution_count": 71,
   "metadata": {},
   "outputs": [],
   "source": [
    "#Feature engineering new destination proportion table for Origin.\n",
    "\n",
    "df5=pd.DataFrame(df2.groupby('Origin').Cancelled.count())\n",
    "df5['all_flights']=pd.DataFrame(df.groupby('Origin').Cancelled.count())\n",
    "df5['cancelled_prop']=df5['Cancelled']*100/df5['all_flights']\n",
    "df6=df5.sort_values('cancelled_prop', ascending=False).head(30)\n",
    "df6=df6.reset_index()"
   ]
  },
  {
   "cell_type": "code",
   "execution_count": 72,
   "metadata": {
    "scrolled": true
   },
   "outputs": [
    {
     "data": {
      "image/png": "[encoded data removed]",
      "text/plain": [
       "<Figure size 432x288 with 1 Axes>"
      ]
     },
     "metadata": {
      "needs_background": "light"
     },
     "output_type": "display_data"
    }
   ],
   "source": [
    "#Barplot cancellation %s per Origin ordered from top 30.\n",
    "sb.barplot(data=df6, x='Origin', y='cancelled_prop', palette='deep');\n",
    "plt.ylabel('Cancellation % Relative to Total Flights');\n",
    "plt.xticks(rotation=90);"
   ]
  },
  {
   "cell_type": "code",
   "execution_count": 74,
   "metadata": {},
   "outputs": [
    {
     "data": {
      "image/png": "[encoded data removed]",
      "text/plain": [
       "<Figure size 432x288 with 1 Axes>"
      ]
     },
     "metadata": {
      "needs_background": "light"
     },
     "output_type": "display_data"
    }
   ],
   "source": [
    "#Barplot cancellation %s per Origin ordered from lowest 30.\n",
    "\n",
    "df7=df5.sort_values('cancelled_prop', ascending=True).head(30)\n",
    "df7=df7.reset_index()\n",
    "sb.barplot(data=df7, x='Origin', y='cancelled_prop', palette='deep');\n",
    "plt.ylabel('Cancellation % Relative to Total Flights');\n",
    "plt.xticks(rotation=90);"
   ]
  },
  {
   "cell_type": "markdown",
   "metadata": {},
   "source": [
    "**Comments:** From the cancellation % barplots, it is clear that smaller airports (e.g. county and regional) have the highest cancellation percentages. On the other hand, it appears that international airports have less cancellations.\n",
    "\n",
    "**Next:** "
   ]
  },
  {
   "cell_type": "markdown",
   "metadata": {},
   "source": [
    "### Talk about some of the relationships you observed in this part of the investigation. How did the feature(s) of interest vary with other features in the dataset?\n",
    "\n",
    "> Your answer here!\n",
    "\n",
    "### Did you observe any interesting relationships between the other features (not the main feature(s) of interest)?\n",
    "\n",
    "> Your answer here!"
   ]
  },
  {
   "cell_type": "markdown",
   "metadata": {},
   "source": [
    "## Multivariate Exploration\n",
    "\n",
    "> Create plots of three or more variables to investigate your data even\n",
    "further. Make sure that your investigations are justified, and follow from\n",
    "your work in the previous sections."
   ]
  },
  {
   "cell_type": "code",
   "execution_count": null,
   "metadata": {},
   "outputs": [],
   "source": []
  },
  {
   "cell_type": "markdown",
   "metadata": {},
   "source": [
    "### Talk about some of the relationships you observed in this part of the investigation. Were there features that strengthened each other in terms of looking at your feature(s) of interest?\n",
    "\n",
    "> Your answer here!\n",
    "\n",
    "### Were there any interesting or surprising interactions between features?\n",
    "\n",
    "> Your answer here!"
   ]
  },
  {
   "cell_type": "markdown",
   "metadata": {},
   "source": [
    "> At the end of your report, make sure that you export the notebook as an\n",
    "html file from the `File > Download as... > HTML` menu. Make sure you keep\n",
    "track of where the exported file goes, so you can put it in the same folder\n",
    "as this notebook for project submission. Also, make sure you remove all of\n",
    "the quote-formatted guide notes like this one before you finish your report!"
   ]
  },
  {
   "cell_type": "code",
   "execution_count": null,
   "metadata": {},
   "outputs": [],
   "source": []
  }
 ],
 "metadata": {
  "kernelspec": {
   "display_name": "Python 3",
   "language": "python",
   "name": "python3"
  },
  "language_info": {
   "codemirror_mode": {
    "name": "ipython",
    "version": 3
   },
   "file_extension": ".py",
   "mimetype": "text/x-python",
   "name": "python",
   "nbconvert_exporter": "python",
   "pygments_lexer": "ipython3",
   "version": "3.8.5"
  }
 },
 "nbformat": 4,
 "nbformat_minor": 2
}
